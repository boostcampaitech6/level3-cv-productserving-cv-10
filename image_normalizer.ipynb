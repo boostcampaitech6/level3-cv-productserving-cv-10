{
 "cells": [
  {
   "cell_type": "code",
   "execution_count": 6,
   "metadata": {},
   "outputs": [
    {
     "name": "stdout",
     "output_type": "stream",
     "text": [
      "Mean: [0.68519514 0.70161988 0.68567898]\n",
      "Std: [0.35363774 0.32057063 0.32768584]\n"
     ]
    }
   ],
   "source": [
    "import os\n",
    "import numpy as np\n",
    "from PIL import Image\n",
    "\n",
    "def compute_mean_std(folder_path):\n",
    "    pixel_nums = []\n",
    "    pixel_sum = np.array([0.0, 0.0, 0.0])\n",
    "    pixel_sq_sum = np.array([0.0, 0.0, 0.0])\n",
    "\n",
    "    for img_filename in os.listdir(folder_path):\n",
    "        img_path = os.path.join(folder_path, img_filename)\n",
    "        with Image.open(img_path) as img:\n",
    "            img = np.array(img) / 255.0  # 이미지를 [0, 1] 범위로 정규화\n",
    "            if len(img.shape) == 3:  # 컬러 이미지인 경우\n",
    "                pixels = img.reshape(-1, img.shape[2])\n",
    "                pixel_nums.append(pixels.shape[0])\n",
    "                pixel_sum += pixels.sum(axis=0)\n",
    "                pixel_sq_sum += (pixels ** 2).sum(axis=0)\n",
    "            elif len(img.shape) == 2:  # 흑백 이미지인 경우, 차원을 맞춤\n",
    "                pixels = img.reshape(-1, 1)\n",
    "                pixel_nums.append(pixels.shape[0])\n",
    "                pixel_sum += pixels.sum(axis=0)\n",
    "                pixel_sq_sum += (pixels ** 2).sum(axis=0)\n",
    "\n",
    "    total_pixels = np.sum(pixel_nums)\n",
    "    mean = pixel_sum / total_pixels\n",
    "    std = np.sqrt(pixel_sq_sum / total_pixels - mean ** 2)\n",
    "\n",
    "    return mean, std\n",
    "\n",
    "folder_path = './hy_info/task3/images/'\n",
    "mean, std = compute_mean_std(folder_path)\n",
    "print(\"Mean:\", mean)\n",
    "print(\"Std:\", std)\n"
   ]
  },
  {
   "cell_type": "code",
   "execution_count": null,
   "metadata": {},
   "outputs": [],
   "source": []
  }
 ],
 "metadata": {
  "kernelspec": {
   "display_name": "base",
   "language": "python",
   "name": "python3"
  },
  "language_info": {
   "codemirror_mode": {
    "name": "ipython",
    "version": 3
   },
   "file_extension": ".py",
   "mimetype": "text/x-python",
   "name": "python",
   "nbconvert_exporter": "python",
   "pygments_lexer": "ipython3",
   "version": "3.11.7"
  }
 },
 "nbformat": 4,
 "nbformat_minor": 2
}
