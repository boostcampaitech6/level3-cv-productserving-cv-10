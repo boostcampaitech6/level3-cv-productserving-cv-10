{
 "cells": [
  {
   "cell_type": "code",
   "execution_count": 5,
   "metadata": {},
   "outputs": [
    {
     "name": "stdout",
     "output_type": "stream",
     "text": [
      "{'accuracy': 0, 'anls': 0, 'ret_prec': 0, 'pred_answer': 'PRIZES', 'pred_answer_conf': 0.07668378949165344, 'pred_answer_page': None, 'image_names': '/home/ges/level3-cv-productserving-cv-10/data/infographics/images/37143.jpeg', 'question': 'Which category of apps enjoy the least percentage of popularity?'}\n"
     ]
    }
   ],
   "source": [
    "import json\n",
    "\n",
    "with open('/home/ges/level3-cv-productserving-cv-10/MP-DocVQA-Framework-master/new.json', 'r') as file:\n",
    "    data = json.load(file)\n",
    "    \n",
    "with open('/home/ges/level3-cv-productserving-cv-10/data/infographics/qas/infographicsVQA_test_v1.0.json', 'r') as file:\n",
    "    qa_data = json.load(file)\n",
    "print(data['Scores by samples']['98304'])"
   ]
  },
  {
   "cell_type": "code",
   "execution_count": 10,
   "metadata": {},
   "outputs": [],
   "source": [
    "questionIDs = []\n",
    "\n",
    "\n",
    "for item in qa_data['data']:\n",
    "    questionIDs.append(item['questionId'])\n",
    "# print(data['Scores by samples'])\n",
    "\n",
    "\n",
    "results = []\n",
    "\n",
    "for item in questionIDs:\n",
    "    results.append({\"questionId\": item, \"answer\": data['Scores by samples'][str(item)]['pred_answer']})\n",
    "\n",
    "with open('layout_result.json', 'w') as file:\n",
    "    json.dump(results, file, ensure_ascii=False, indent=4)\n"
   ]
  }
 ],
 "metadata": {
  "kernelspec": {
   "display_name": "base",
   "language": "python",
   "name": "python3"
  },
  "language_info": {
   "codemirror_mode": {
    "name": "ipython",
    "version": 3
   },
   "file_extension": ".py",
   "mimetype": "text/x-python",
   "name": "python",
   "nbconvert_exporter": "python",
   "pygments_lexer": "ipython3",
   "version": "3.11.8"
  }
 },
 "nbformat": 4,
 "nbformat_minor": 2
}
